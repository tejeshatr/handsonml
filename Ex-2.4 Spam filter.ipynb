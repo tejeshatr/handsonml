{
 "cells": [
  {
   "cell_type": "markdown",
   "id": "6a498cd9",
   "metadata": {},
   "source": [
    "## Spam Filter using Apache SpamAssasin Data"
   ]
  },
  {
   "cell_type": "code",
   "execution_count": 1,
   "id": "230190fa",
   "metadata": {},
   "outputs": [],
   "source": [
    "import pandas as pd\n",
    "import numpy as np\n",
    "import matplotlib.pyplot as plt\n",
    "\n",
    "\n",
    "spam_data_dir = './datasets/spam_data/'\n",
    "\n",
    "def getDataDir(dirname):\n",
    "    return spam_data_dir + dirname"
   ]
  },
  {
   "cell_type": "code",
   "execution_count": 2,
   "id": "1cb320b9",
   "metadata": {},
   "outputs": [],
   "source": [
    "import os\n",
    "from pathlib import Path\n",
    "from email.parser import BytesParser\n",
    "from email.policy import default\n",
    "\n",
    "def getDataAsEmails(target_dir):\n",
    "    result = []\n",
    "    parser = BytesParser(policy=default)\n",
    "    for child in Path(target_dir).iterdir():\n",
    "        if child.is_file():\n",
    "            with open(os.fspath(child), 'rb') as f:\n",
    "                emailMessage = parser.parse(fp=f)\n",
    "                result.append(emailMessage)\n",
    "            \n",
    "    return np.array(result, dtype = object)\n",
    "            \n",
    "easy_ham = getDataAsEmails(getDataDir('easy_ham'))\n",
    "easy_ham2 = getDataAsEmails(getDataDir('easy_ham_2'))\n",
    "\n",
    "hard_ham = getDataAsEmails(getDataDir('hard_ham'))\n",
    "\n",
    "spam = getDataAsEmails(getDataDir('spam'))\n",
    "spam2 = getDataAsEmails(getDataDir('spam_2'))\n"
   ]
  },
  {
   "cell_type": "code",
   "execution_count": 3,
   "id": "2a4b02c0",
   "metadata": {},
   "outputs": [],
   "source": [
    "ham = np.concatenate([easy_ham, easy_ham2, hard_ham])\n",
    "spam = np.concatenate([spam, spam2])\n",
    "\n",
    "labels = np.array([0] * len(ham) + [1] * len(spam), dtype=int)\n",
    "data = np.concatenate([ham, spam])"
   ]
  },
  {
   "cell_type": "markdown",
   "id": "468c7c50",
   "metadata": {},
   "source": [
    "Storing data as email.Message objects because this gives the most flexibility in the Pipeline for new messages. Also keep preprocessing of data outside the Pipeline to a minimum"
   ]
  },
  {
   "cell_type": "code",
   "execution_count": 4,
   "id": "35745f2a",
   "metadata": {},
   "outputs": [
    {
     "name": "stdout",
     "output_type": "stream",
     "text": [
      "Ham size: 6951\n",
      "Spam size: 2398\n",
      "Total: 9349\n"
     ]
    }
   ],
   "source": [
    "print('Ham size:', len(ham))\n",
    "print('Spam size:', len(spam))\n",
    "print('Total:', len(data))"
   ]
  },
  {
   "cell_type": "markdown",
   "id": "b4c02938",
   "metadata": {},
   "source": [
    "## Split data into train set and test set"
   ]
  },
  {
   "cell_type": "code",
   "execution_count": 5,
   "id": "585f19e8",
   "metadata": {},
   "outputs": [],
   "source": [
    "from sklearn.model_selection import StratifiedShuffleSplit\n",
    "\n",
    "stratifiedSplit = StratifiedShuffleSplit(random_state=42, test_size=0.2)\n",
    "for train_index, test_index in stratifiedSplit.split(data, labels):\n",
    "    X_train, X_test = data[train_index], data[test_index] \n",
    "    y_train, y_test = labels[train_index], labels[test_index]"
   ]
  },
  {
   "cell_type": "code",
   "execution_count": 6,
   "id": "9d7d4808",
   "metadata": {},
   "outputs": [
    {
     "name": "stdout",
     "output_type": "stream",
     "text": [
      "Training data size: 7479\n",
      "Test data size: 1870\n"
     ]
    }
   ],
   "source": [
    "print('Training data size:', len(X_train))\n",
    "print('Test data size:', len(X_test))"
   ]
  },
  {
   "cell_type": "markdown",
   "id": "eab17df1",
   "metadata": {},
   "source": [
    "## Checking out data"
   ]
  },
  {
   "cell_type": "code",
   "execution_count": 7,
   "id": "a35c787d",
   "metadata": {},
   "outputs": [
    {
     "name": "stdout",
     "output_type": "stream",
     "text": [
      "Ham Content Types:\n",
      "[('text/plain', 6371), ('text/html', 240), ('multipart/signed', 180), ('multipart/alternative', 110), ('multipart/mixed', 37), ('multipart/related', 8), ('multipart/report', 5)]\n",
      "\n",
      "Spam Content Types:\n",
      "[('text/plain', 1038), ('text/html', 953), ('multipart/alternative', 216), ('multipart/mixed', 142), ('multipart/related', 48), ('text/plain charset=us-ascii', 1)]\n"
     ]
    }
   ],
   "source": [
    "from collections import Counter\n",
    "ham_content_types = [mail.get_content_type() for mail in ham]\n",
    "spam_content_types = [mail.get_content_type() for mail in spam]\n",
    "\n",
    "ham_type_counter = Counter(ham_content_types)\n",
    "spam_type_counter = Counter(spam_content_types)\n",
    "\n",
    "print('Ham Content Types:')\n",
    "print(ham_type_counter.most_common(10))\n",
    "print('\\nSpam Content Types:')\n",
    "print(spam_type_counter.most_common(10))"
   ]
  },
  {
   "cell_type": "markdown",
   "id": "653159d6",
   "metadata": {},
   "source": [
    "Ham contains a lot of text/plain messages, while spam contains equal amount text/html. I'm going to discard multipart data for simplicity for now. Maybe Beautiful Soup can be useful in data preprocessing for html email types"
   ]
  },
  {
   "cell_type": "code",
   "execution_count": 8,
   "id": "a1d8e295",
   "metadata": {},
   "outputs": [],
   "source": [
    "from bs4 import BeautifulSoup\n",
    "from pprint import pprint\n",
    "import re\n",
    "\n",
    "def getEmailData(email):\n",
    "    result = {}\n",
    "    result[\"content_type\"] = email.get_content_type()\n",
    "    result[\"content\"] = \"N/A\"\n",
    "    \n",
    "    if email.is_multipart():\n",
    "        return result\n",
    "    else:\n",
    "        if result[\"content_type\"] == 'text/plain':\n",
    "            result[\"content\"] = email.get_payload().strip()\n",
    "            return result\n",
    "        elif result[\"content_type\"] == 'text/html':\n",
    "            payload = email.get_payload()\n",
    "            soup = BeautifulSoup(payload)\n",
    "            if soup.a != None:\n",
    "                soup.a.replaceWith('<p>').string = 'URL'\n",
    "            content = soup.get_text().strip()\n",
    "            result[\"content\"] = re.sub(r'\\\\.+\\s|\\s+', \" \", content)\n",
    "            return result\n",
    "    return result\n"
   ]
  },
  {
   "cell_type": "markdown",
   "id": "0f9d3081",
   "metadata": {},
   "source": [
    "Now moving on to encoding words and frequencies"
   ]
  },
  {
   "cell_type": "code",
   "execution_count": 9,
   "id": "18093dea",
   "metadata": {},
   "outputs": [],
   "source": [
    "import nltk\n",
    "from nltk.stem import LancasterStemmer\n",
    "\n",
    "tokens = nltk.word_tokenize(getEmailData(spam[23])['content'])\n",
    "stemmer = LancasterStemmer()"
   ]
  },
  {
   "cell_type": "code",
   "execution_count": 10,
   "id": "ee2b9570",
   "metadata": {},
   "outputs": [],
   "source": [
    "from sklearn.feature_extraction.text import CountVectorizer\n",
    "\n",
    "ham_data = []\n",
    "for ham_dat in ham:\n",
    "    hamail = getEmailData(ham_dat)\n",
    "    if hamail == None:\n",
    "        continue\n",
    "    tokens = nltk.word_tokenize(hamail['content'])\n",
    "    hamail['tokens'] = ' '.join([stemmer.stem(token) for token in tokens])\n",
    "    ham_data.append(hamail)\n",
    "\n",
    "vectorizer = CountVectorizer()"
   ]
  },
  {
   "cell_type": "code",
   "execution_count": 11,
   "id": "0cb7b232",
   "metadata": {},
   "outputs": [],
   "source": [
    "X = vectorizer.fit_transform([ham['content'] for ham in ham_data])"
   ]
  },
  {
   "cell_type": "code",
   "execution_count": 12,
   "id": "5d467a14",
   "metadata": {},
   "outputs": [
    {
     "data": {
      "text/plain": [
       "array([[1, 0, 0, ..., 0, 0, 0],\n",
       "       [0, 0, 0, ..., 0, 0, 0],\n",
       "       [0, 0, 0, ..., 0, 0, 0],\n",
       "       ...,\n",
       "       [3, 0, 0, ..., 0, 0, 0],\n",
       "       [0, 0, 0, ..., 0, 0, 0],\n",
       "       [0, 0, 0, ..., 0, 0, 0]])"
      ]
     },
     "execution_count": 12,
     "metadata": {},
     "output_type": "execute_result"
    }
   ],
   "source": [
    "X.toarray()"
   ]
  },
  {
   "cell_type": "markdown",
   "id": "c21c027a",
   "metadata": {},
   "source": [
    "It's clear from above that all the values have been tokenized from the email content. Now, it's time to create a pipeline to make the above transformations"
   ]
  },
  {
   "cell_type": "markdown",
   "id": "c0707f11",
   "metadata": {},
   "source": [
    "# The Pipeline"
   ]
  },
  {
   "cell_type": "markdown",
   "id": "0e7f3bb2",
   "metadata": {},
   "source": [
    "## Step 1 - A Transformer to transform email.Message objects"
   ]
  },
  {
   "cell_type": "code",
   "execution_count": 13,
   "id": "a96b3fd0",
   "metadata": {},
   "outputs": [],
   "source": [
    "from sklearn.base import BaseEstimator, TransformerMixin\n",
    "\n",
    "class TransformEmailMessages(BaseEstimator, TransformerMixin):\n",
    "    def fit(self, X, y):\n",
    "        return self\n",
    "    def transform(self, X):\n",
    "        transformedX = []\n",
    "        for datum in X:\n",
    "            trDatum = getEmailData(datum)\n",
    "            if trDatum != None:\n",
    "                transformedX.append(pd.Series(trDatum))\n",
    "                \n",
    "        return pd.DataFrame(transformedX)"
   ]
  },
  {
   "cell_type": "markdown",
   "id": "e263d639",
   "metadata": {},
   "source": [
    "## Step 2 - Vectorize the email content and encode content-types"
   ]
  },
  {
   "cell_type": "code",
   "execution_count": 14,
   "id": "643c91e8",
   "metadata": {},
   "outputs": [],
   "source": [
    "class TokenizeWords(BaseEstimator, TransformerMixin):\n",
    "        \n",
    "    def fit(self, X, y):\n",
    "        self.XSize = len(X)\n",
    "        return self\n",
    "    def transform(self, X):\n",
    "        resultX = []\n",
    "        for datum in X:\n",
    "            tokens = nltk.word_tokenize(datum)\n",
    "            tokens = ' '.join([stemmer.stem(token) for token in tokens])\n",
    "            \n",
    "            resultX.append(tokens)\n",
    "            \n",
    "        return pd.DataFrame(resultX, dtype='string')"
   ]
  },
  {
   "cell_type": "code",
   "execution_count": 15,
   "id": "8c641d6c",
   "metadata": {},
   "outputs": [],
   "source": [
    "from sklearn.pipeline import Pipeline\n",
    "from sklearn.compose import ColumnTransformer\n",
    "from sklearn.preprocessing import OrdinalEncoder, OneHotEncoder\n",
    "\n",
    "FirstPipeline = Pipeline(steps=[\n",
    "    ('transform', TransformEmailMessages()),\n",
    "    ('encodeHeaders', ColumnTransformer([\n",
    "#         ('encodeContentType', OrdinalEncoder(), ['content_type']),\n",
    "        ('tokenize', TokenizeWords(), ['content'])\n",
    "#         ('vectorize', CountVectorizer(), slice(1, -1))\n",
    "    ], remainder='passthrough'))\n",
    "    \n",
    "])"
   ]
  },
  {
   "cell_type": "code",
   "execution_count": 16,
   "id": "70a1c430",
   "metadata": {},
   "outputs": [
    {
     "data": {
      "text/html": [
       "<div>\n",
       "<style scoped>\n",
       "    .dataframe tbody tr th:only-of-type {\n",
       "        vertical-align: middle;\n",
       "    }\n",
       "\n",
       "    .dataframe tbody tr th {\n",
       "        vertical-align: top;\n",
       "    }\n",
       "\n",
       "    .dataframe thead th {\n",
       "        text-align: right;\n",
       "    }\n",
       "</style>\n",
       "<table border=\"1\" class=\"dataframe\">\n",
       "  <thead>\n",
       "    <tr style=\"text-align: right;\">\n",
       "      <th></th>\n",
       "      <th>0</th>\n",
       "    </tr>\n",
       "  </thead>\n",
       "  <tbody>\n",
       "    <tr>\n",
       "      <th>0</th>\n",
       "      <td>thi is an autom respons to a mess you hav sent...</td>\n",
       "    </tr>\n",
       "    <tr>\n",
       "      <th>1</th>\n",
       "      <td>20020819 lockergnom tech spec &lt; p &gt; 08.19.2002...</td>\n",
       "    </tr>\n",
       "    <tr>\n",
       "      <th>2</th>\n",
       "      <td>n/a</td>\n",
       "    </tr>\n",
       "  </tbody>\n",
       "</table>\n",
       "</div>"
      ],
      "text/plain": [
       "                                                   0\n",
       "0  thi is an autom respons to a mess you hav sent...\n",
       "1  20020819 lockergnom tech spec < p > 08.19.2002...\n",
       "2                                                n/a"
      ]
     },
     "execution_count": 16,
     "metadata": {},
     "output_type": "execute_result"
    }
   ],
   "source": [
    "X_tr = TransformEmailMessages().fit_transform(X_train, y_train)\n",
    "vectorizer = CountVectorizer().fit(X_tr['content'])\n",
    "\n",
    "X_tr['content_type'] = OrdinalEncoder().fit_transform(np.array(X_tr['content_type']).reshape(-1, 1))\n",
    "tokens = TokenizeWords().fit_transform(X_tr['content'], y_train)\n",
    "tokens[:3]"
   ]
  },
  {
   "cell_type": "code",
   "execution_count": 17,
   "id": "f4726e77",
   "metadata": {},
   "outputs": [],
   "source": [
    "X_Content = vectorizer.fit_transform(tokens[0])"
   ]
  },
  {
   "cell_type": "code",
   "execution_count": null,
   "id": "d253b7a3",
   "metadata": {},
   "outputs": [],
   "source": []
  },
  {
   "cell_type": "code",
   "execution_count": 18,
   "id": "9db2cc81",
   "metadata": {},
   "outputs": [
    {
     "data": {
      "text/plain": [
       "KNeighborsClassifier()"
      ]
     },
     "execution_count": 18,
     "metadata": {},
     "output_type": "execute_result"
    }
   ],
   "source": [
    "from sklearn.neighbors import KNeighborsClassifier\n",
    "knnc = KNeighborsClassifier()\n",
    "knnc.fit(X_Content, y_train)"
   ]
  },
  {
   "cell_type": "code",
   "execution_count": 19,
   "id": "b6c687ba",
   "metadata": {},
   "outputs": [
    {
     "data": {
      "text/plain": [
       "array([0.90173797, 0.90574866, 0.90574866, 0.91176471, 0.91036789])"
      ]
     },
     "execution_count": 19,
     "metadata": {},
     "output_type": "execute_result"
    }
   ],
   "source": [
    "from sklearn.model_selection import cross_val_score\n",
    "\n",
    "cross_val_score(knnc, X_Content, y_train, cv=5)"
   ]
  },
  {
   "cell_type": "code",
   "execution_count": 20,
   "id": "89c95de2",
   "metadata": {},
   "outputs": [],
   "source": [
    "from sklearn.metrics import precision_score, recall_score, f1_score\n",
    "\n",
    "knn_pred = knnc.predict(X_Content)\n",
    "\n",
    "knnprecision = precision_score(y_train, knn_pred)\n",
    "knnrecall = recall_score(y_train, knn_pred)"
   ]
  },
  {
   "cell_type": "code",
   "execution_count": 21,
   "id": "b510ed9c",
   "metadata": {},
   "outputs": [
    {
     "name": "stdout",
     "output_type": "stream",
     "text": [
      "precision: 0.8220831470719714\n",
      "recall:  0.9588112617309698\n"
     ]
    }
   ],
   "source": [
    "print('precision:', knnprecision)\n",
    "print('recall: ', knnrecall)"
   ]
  },
  {
   "cell_type": "code",
   "execution_count": 22,
   "id": "3e610ab1",
   "metadata": {},
   "outputs": [
    {
     "data": {
      "text/plain": [
       "0.8851985559566786"
      ]
     },
     "execution_count": 22,
     "metadata": {},
     "output_type": "execute_result"
    }
   ],
   "source": [
    "f1_score(y_train, knn_pred)"
   ]
  },
  {
   "cell_type": "markdown",
   "id": "4ba65827",
   "metadata": {},
   "source": [
    "Wow, maybe data has overfit!"
   ]
  },
  {
   "cell_type": "markdown",
   "id": "f54a27dd",
   "metadata": {},
   "source": [
    "# Testing on test set"
   ]
  },
  {
   "cell_type": "code",
   "execution_count": 23,
   "id": "230b0d2a",
   "metadata": {},
   "outputs": [],
   "source": [
    "X_test_tr = TransformEmailMessages().fit_transform(X_test, y_test)\n",
    "\n",
    "tokens = TokenizeWords().fit_transform(X_test_tr['content'], y_train)\n",
    "X_test_Content = vectorizer.transform(tokens[0])"
   ]
  },
  {
   "cell_type": "code",
   "execution_count": 24,
   "id": "817146c8",
   "metadata": {},
   "outputs": [
    {
     "name": "stdout",
     "output_type": "stream",
     "text": [
      "precision: 0.7918871252204586\n",
      "recall:  0.9354166666666667\n"
     ]
    },
    {
     "data": {
      "text/plain": [
       "0.8576886341929322"
      ]
     },
     "execution_count": 24,
     "metadata": {},
     "output_type": "execute_result"
    }
   ],
   "source": [
    "from sklearn.metrics import precision_score, recall_score, f1_score\n",
    "\n",
    "knn_test_pred = knnc.predict(X_test_Content)\n",
    "\n",
    "knnprecision = precision_score(y_test, knn_test_pred)\n",
    "knnrecall = recall_score(y_test, knn_test_pred)\n",
    "\n",
    "print('precision:', knnprecision)\n",
    "print('recall: ', knnrecall)\n",
    "\n",
    "f1_score(y_test, knn_test_pred)"
   ]
  },
  {
   "cell_type": "markdown",
   "id": "13b3c505",
   "metadata": {},
   "source": [
    "That's an average f1-score but good to know recall is over 93% but for classifying spam, precision should be higher as getting a few spam messages into the inbox won't be bad while getting important mails as spam could be disastrous! The data has overfit a little, maybe choosing a simpler classifier or adding more data (e.g. headers) can help"
   ]
  },
  {
   "cell_type": "code",
   "execution_count": null,
   "id": "08bfae45",
   "metadata": {},
   "outputs": [],
   "source": []
  },
  {
   "cell_type": "code",
   "execution_count": null,
   "id": "18c0fb9f",
   "metadata": {},
   "outputs": [],
   "source": []
  }
 ],
 "metadata": {
  "kernelspec": {
   "display_name": "Python 3 (ipykernel)",
   "language": "python",
   "name": "python3"
  },
  "language_info": {
   "codemirror_mode": {
    "name": "ipython",
    "version": 3
   },
   "file_extension": ".py",
   "mimetype": "text/x-python",
   "name": "python",
   "nbconvert_exporter": "python",
   "pygments_lexer": "ipython3",
   "version": "3.8.10"
  }
 },
 "nbformat": 4,
 "nbformat_minor": 5
}
